{
  "nbformat": 4,
  "nbformat_minor": 0,
  "metadata": {
    "colab": {
      "provenance": []
    },
    "kernelspec": {
      "name": "python3",
      "display_name": "Python 3"
    },
    "language_info": {
      "name": "python"
    }
  },
  "cells": [
    {
      "cell_type": "code",
      "source": [
        "!pip install gym"
      ],
      "metadata": {
        "colab": {
          "base_uri": "https://localhost:8080/"
        },
        "id": "F1s3wWR-xXNU",
        "outputId": "42ac4e27-fa6a-4bd6-8aa7-85b23c8ba7f8"
      },
      "execution_count": 1,
      "outputs": [
        {
          "output_type": "stream",
          "name": "stdout",
          "text": [
            "Requirement already satisfied: gym in /usr/local/lib/python3.10/dist-packages (0.25.2)\n",
            "Requirement already satisfied: numpy>=1.18.0 in /usr/local/lib/python3.10/dist-packages (from gym) (1.25.2)\n",
            "Requirement already satisfied: cloudpickle>=1.2.0 in /usr/local/lib/python3.10/dist-packages (from gym) (2.2.1)\n",
            "Requirement already satisfied: gym-notices>=0.0.4 in /usr/local/lib/python3.10/dist-packages (from gym) (0.0.8)\n"
          ]
        }
      ]
    },
    {
      "cell_type": "code",
      "source": [
        "import gym\n",
        "from gym import spaces\n",
        "import numpy as np\n",
        "\n",
        "\n",
        "class HomeostaticEnv(gym.Env):\n",
        "    \"\"\"\n",
        "    Custom Environment that follows gym interface.\n",
        "    This is a stationary gridworld where resources are randomly distributed and actions\n",
        "    are chosen randomly.\n",
        "    \"\"\"\n",
        "\n",
        "    def __init__(self, grid_size=8,\n",
        "                 field_of_view=1,\n",
        "                 n_stats=3,\n",
        "                 set_point=1,\n",
        "                 initial_stats=[0.5, 0.5],\n",
        "                 loc=[3, 3],\n",
        "                 n_actions=4,\n",
        "                 stat_decrease_per_step=0.005,\n",
        "                 ep_length=50,\n",
        "                 resource_percentile=70):\n",
        "        super(HomeostaticEnv, self).__init__()\n",
        "\n",
        "        # Agent parameters\n",
        "        # The initial location of the agent\n",
        "        self.loc = loc  # 2D location [x, y] where x = rows and y = columns\n",
        "        self.n_actions = n_actions # The number of actions\n",
        "        self.action_space = spaces.Discrete(n_actions)\n",
        "        self.ep_length = ep_length # The number of timesteps in an episode\n",
        "\n",
        "        # Stats parameters\n",
        "        self.n_stats = n_stats  # Number of features (one for each stat)\n",
        "        self.set_point = set_point  # Goal of stats\n",
        "        self.initial_stats = initial_stats  # The range of initial stats: [x, y] x = lowest initial stat, y = highest\n",
        "        self.stat_decrease_per_step = stat_decrease_per_step  # Stat decreases over time\n",
        "\n",
        "        # Grid world parameters\n",
        "        self.grid_size = grid_size  # Size of the gridworld (grid_size x grid_size)\n",
        "        #self.field_of_view = field_of_view  # How many cells the agent can see in each direction\n",
        "        #self.view_size = 2 * self.field_of_view + 1  # The height and width of the view square\n",
        "\n",
        "        # Resource parameters\n",
        "        self.resource_percentile = resource_percentile  # Resources affect stat above this\n",
        "\n",
        "        # Initialize the environment --Reset\n",
        "        #self.grid = np.zeros((self.n_stats, self.grid_size, self.grid_size))  # empty world grid\n",
        "        self.reset_stats()\n",
        "        self.reset_grid()\n",
        "        self.reset()\n",
        "\n",
        "\n",
        "    ######## Reset\n",
        "    def reset(self):\n",
        "        self.time_step = 0  # resets step timer\n",
        "        self.dead = False\n",
        "        self.done = False\n",
        "\n",
        "    def reset_stats(self):\n",
        "        \"\"\"Initialize stats of the agent.\"\"\"\n",
        "        self.stats = []\n",
        "        for i in range(self.n_stats):\n",
        "            self.stats.append(np.random.uniform(self.initial_stats[0], self.initial_stats[1]))\n",
        "\n",
        "    def reset_grid(self):\n",
        "        \"\"\"Reset both thresholds and distribution of resources.\"\"\"\n",
        "        self.thresholds = []\n",
        "        # Randomly generate resources\n",
        "        self.grid = np.random.rand(self.n_stats, self.grid_size, self.grid_size)\n",
        "\n",
        "        for stat in range(self.n_stats):\n",
        "            # Normalize to ensure the same total amount of each resource (total amount = 1)\n",
        "            total_resource = np.sum(self.grid[stat, :, :])\n",
        "            self.grid[stat, :, :] /= total_resource\n",
        "            # Returns a single stat value: the 95th percentile (resource_percentile=95)(high) in the whole grid world\n",
        "            self.thresholds.append(np.percentile(self.grid[stat, :, :], self.resource_percentile))\n",
        "\n",
        "\n",
        "    ####### Step\n",
        "    def step(self, action):\n",
        "        \"\"\"Update locations, stats, and rewards.\"\"\"\n",
        "        self.time_step += 1\n",
        "\n",
        "        # Check if this episode terminates\n",
        "        if self.time_step == self.ep_length:\n",
        "            self.done = True\n",
        "\n",
        "        # Move\n",
        "        if action == 0:  # move down\n",
        "            self.loc[0] = min(self.grid_size - 1, self.loc[0] + 1)\n",
        "        elif action == 1:  # move up\n",
        "            self.loc[0] = max(0, self.loc[0] - 1)\n",
        "        elif action == 2:  # move right\n",
        "            self.loc[1] = min(self.grid_size - 1, self.loc[1] + 1)\n",
        "        elif action == 3:  # move left\n",
        "            self.loc[1] = max(0, self.loc[1] - 1)\n",
        "\n",
        "        reward = self.step_stats()\n",
        "\n",
        "        # Return step information\n",
        "        return reward, self.done, self.dead\n",
        "\n",
        "    def step_stats(self):\n",
        "        \"\"\"Update stats and dead.\"\"\"\n",
        "        #self.old_stats = copy.deepcopy(self.stats)\n",
        "\n",
        "        for i in range(self.n_stats):\n",
        "            # All stats decrease over time\n",
        "            self.stats[i] -= self.stat_decrease_per_step\n",
        "            # Stats only increase when resources are above thresholds\n",
        "            if self.grid[i, self.loc[0], self.loc[1]] > self.thresholds[i]:\n",
        "                self.stats[i] += self.grid[i, self.loc[0], self.loc[1]]\n",
        "\n",
        "            if self.stats[i] < 0:\n",
        "                self.dead = True\n",
        "\n",
        "        return self.sq_dev_reward()\n",
        "\n",
        "    def sq_dev_reward(self):\n",
        "        return 0.2 - sum([(self.set_point - stat) ** 2 for stat in self.stats])\n",
        "\n",
        "    def render(self, mode='human'):\n",
        "        # Simple text-based rendering\n",
        "        print(f\"Position: {self.loc}, Stats: {np.round(self.stats, 2)}\")"
      ],
      "metadata": {
        "colab": {
          "base_uri": "https://localhost:8080/"
        },
        "id": "wAXnHCp00GQu",
        "outputId": "1e6ef9e6-a02a-4fe1-de13-7312a4fb149c"
      },
      "execution_count": 13,
      "outputs": [
        {
          "output_type": "stream",
          "name": "stderr",
          "text": [
            "/usr/local/lib/python3.10/dist-packages/ipykernel/ipkernel.py:283: DeprecationWarning: `should_run_async` will not call `transform_cell` automatically in the future. Please pass the result to `transformed_cell` argument and any exception that happen during thetransform in `preprocessing_exc_tuple` in IPython 7.17 and above.\n",
            "  and should_run_async(code)\n"
          ]
        }
      ]
    },
    {
      "cell_type": "code",
      "source": [
        "# Example usage\n",
        "if __name__ == \"__main__\":\n",
        "    env = HomeostaticEnv()\n",
        "    total_reward = 0\n",
        "\n",
        "    while not done and not dead:\n",
        "        action = env.action_space.sample()  # Random action\n",
        "        reward, done, dead = env.step(action)\n",
        "        total_reward += reward\n",
        "        env.render()\n",
        "\n",
        "    print(f\"Total reward: {total_reward}\")"
      ],
      "metadata": {
        "colab": {
          "base_uri": "https://localhost:8080/"
        },
        "id": "xM2rpEADxyLK",
        "outputId": "b6ff9196-6f70-4f6b-c0f9-c3e7e5f06c07"
      },
      "execution_count": 15,
      "outputs": [
        {
          "output_type": "stream",
          "name": "stdout",
          "text": [
            "Position: [4, 4], Stats: [0.5 0.5 0.5]\n",
            "Position: [4, 3], Stats: [0.52 0.52 0.49]\n",
            "Position: [4, 4], Stats: [0.51 0.52 0.48]\n",
            "Position: [5, 4], Stats: [0.51 0.54 0.48]\n",
            "Position: [5, 5], Stats: [0.53 0.53 0.48]\n",
            "Position: [5, 4], Stats: [0.53 0.55 0.47]\n",
            "Position: [5, 3], Stats: [0.52 0.58 0.49]\n",
            "Position: [4, 3], Stats: [0.54 0.6  0.49]\n",
            "Position: [3, 3], Stats: [0.54 0.6  0.48]\n",
            "Position: [3, 4], Stats: [0.56 0.59 0.48]\n",
            "Position: [3, 5], Stats: [0.55 0.59 0.5 ]\n",
            "Position: [3, 4], Stats: [0.57 0.58 0.5 ]\n",
            "Position: [2, 4], Stats: [0.57 0.58 0.49]\n",
            "Position: [2, 3], Stats: [0.56 0.59 0.49]\n",
            "Position: [2, 2], Stats: [0.56 0.59 0.48]\n",
            "Position: [3, 2], Stats: [0.55 0.58 0.51]\n",
            "Position: [3, 3], Stats: [0.55 0.58 0.5 ]\n",
            "Position: [3, 4], Stats: [0.57 0.57 0.5 ]\n",
            "Position: [3, 3], Stats: [0.56 0.57 0.49]\n",
            "Position: [3, 2], Stats: [0.56 0.56 0.51]\n",
            "Position: [3, 1], Stats: [0.58 0.56 0.53]\n",
            "Position: [2, 1], Stats: [0.57 0.55 0.53]\n",
            "Position: [1, 1], Stats: [0.57 0.57 0.55]\n",
            "Position: [0, 1], Stats: [0.56 0.57 0.55]\n",
            "Position: [1, 1], Stats: [0.56 0.58 0.57]\n",
            "Position: [1, 2], Stats: [0.55 0.61 0.6 ]\n",
            "Position: [1, 3], Stats: [0.55 0.6  0.59]\n",
            "Position: [1, 4], Stats: [0.54 0.62 0.61]\n",
            "Position: [1, 5], Stats: [0.54 0.61 0.61]\n",
            "Position: [2, 5], Stats: [0.56 0.63 0.6 ]\n",
            "Position: [1, 5], Stats: [0.56 0.63 0.6 ]\n",
            "Position: [1, 4], Stats: [0.55 0.65 0.62]\n",
            "Position: [2, 4], Stats: [0.55 0.64 0.61]\n",
            "Position: [1, 4], Stats: [0.54 0.66 0.64]\n",
            "Position: [1, 3], Stats: [0.54 0.65 0.63]\n",
            "Position: [0, 3], Stats: [0.56 0.65 0.65]\n",
            "Position: [0, 2], Stats: [0.56 0.64 0.67]\n",
            "Position: [0, 3], Stats: [0.58 0.64 0.68]\n",
            "Position: [0, 4], Stats: [0.58 0.63 0.68]\n",
            "Position: [1, 4], Stats: [0.57 0.65 0.7 ]\n",
            "Position: [0, 4], Stats: [0.57 0.65 0.7 ]\n",
            "Position: [0, 5], Stats: [0.56 0.64 0.69]\n",
            "Position: [0, 6], Stats: [0.56 0.64 0.71]\n",
            "Position: [1, 6], Stats: [0.55 0.63 0.71]\n",
            "Position: [0, 6], Stats: [0.55 0.63 0.73]\n",
            "Position: [0, 7], Stats: [0.54 0.62 0.75]\n",
            "Position: [0, 6], Stats: [0.54 0.62 0.77]\n",
            "Position: [0, 5], Stats: [0.53 0.61 0.77]\n",
            "Position: [0, 6], Stats: [0.53 0.61 0.79]\n",
            "Position: [0, 6], Stats: [0.52 0.6  0.81]\n",
            "Total reward: -17.234864137345628\n"
          ]
        },
        {
          "output_type": "stream",
          "name": "stderr",
          "text": [
            "/usr/local/lib/python3.10/dist-packages/ipykernel/ipkernel.py:283: DeprecationWarning: `should_run_async` will not call `transform_cell` automatically in the future. Please pass the result to `transformed_cell` argument and any exception that happen during thetransform in `preprocessing_exc_tuple` in IPython 7.17 and above.\n",
            "  and should_run_async(code)\n"
          ]
        }
      ]
    }
  ]
}
